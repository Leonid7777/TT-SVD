{
  "nbformat": 4,
  "nbformat_minor": 0,
  "metadata": {
    "colab": {
      "provenance": []
    },
    "kernelspec": {
      "name": "python3",
      "display_name": "Python 3"
    },
    "language_info": {
      "name": "python"
    }
  },
  "cells": [
    {
      "cell_type": "code",
      "source": [
        "import numpy as np\n",
        "from scipy import linalg as lg"
      ],
      "metadata": {
        "id": "Ad482Q7PF7sB"
      },
      "execution_count": 1,
      "outputs": []
    },
    {
      "cell_type": "markdown",
      "source": [
        "# TT-SVD"
      ],
      "metadata": {
        "id": "2E1TxlcBS5vp"
      }
    },
    {
      "cell_type": "code",
      "source": [
        "def use_rank(s, eps):\n",
        "    k = 1\n",
        "    spec = np.sum(s**2)\n",
        "    while k < s.shape[0] and np.sum(s[k:]**2) >= eps:\n",
        "        k = k + 1\n",
        "    return k, np.sum(s[k:]**2)"
      ],
      "metadata": {
        "id": "3_yvGvTWLWyd"
      },
      "execution_count": 2,
      "outputs": []
    },
    {
      "cell_type": "code",
      "source": [
        "def TT_SVD(T, eps=10**(-8), ranks=None):\n",
        "    eps = (eps * np.linalg.norm(T.reshape(-1,)))**2\n",
        "\n",
        "    factors = []\n",
        "    dims = list(T.shape)\n",
        "    d = len(dims)\n",
        "\n",
        "    if ranks and len(ranks) != d - 1:\n",
        "        print(f\"Ranks must have {d - 1} elements\")\n",
        "        return 0\n",
        "\n",
        "    T = T.reshape(dims[0], -1)\n",
        "\n",
        "    for i in range(d - 1):\n",
        "\n",
        "        U, s, Vh = np.linalg.svd(T, full_matrices=False)\n",
        "\n",
        "        if ranks:\n",
        "            rank = ranks[i]\n",
        "        else:\n",
        "            rank, m_eps = use_rank(s, eps / (d - i))\n",
        "            eps = eps - m_eps\n",
        "\n",
        "        T = s[:rank].reshape((-1, 1)) * Vh[:rank, :]\n",
        "\n",
        "        if i == 0:\n",
        "            factors.append(U[:, :rank])\n",
        "            T = T.reshape(rank * dims[i + 1], -1)\n",
        "        elif i != d - 2:\n",
        "            factors.append(U[:, :rank].reshape(dims[i - 1], dims[i], rank))\n",
        "            T = T.reshape(rank * dims[i + 1], -1)\n",
        "        else:\n",
        "            factors.append(U[:, :rank].reshape(dims[i - 1], dims[i], rank))\n",
        "            factors.append(T)\n",
        "\n",
        "        dims[i] = rank\n",
        "\n",
        "    return factors, dims[:-1]"
      ],
      "metadata": {
        "id": "dG5LzK2cEUNt"
      },
      "execution_count": 3,
      "outputs": []
    },
    {
      "cell_type": "markdown",
      "source": [
        "# TT-orthogonalization"
      ],
      "metadata": {
        "id": "uWGcaE9Aob50"
      }
    },
    {
      "cell_type": "code",
      "source": [
        "def TT_orthogonalization(factors, ranks):\n",
        "    d = len(factors)\n",
        "    new_ranks = []\n",
        "\n",
        "    for i in range(d):\n",
        "\n",
        "        if not i:\n",
        "            factors[i], R = np.linalg.qr(factors[i])\n",
        "            new_ranks.append(R.shape[0])\n",
        "        elif i != d - 1:\n",
        "            timeless_factor = R @ factors[i].reshape(ranks[i - 1], -1)\n",
        "            timeless_factor = timeless_factor.reshape(ranks[i - 1] * factors[i].shape[1], -1)\n",
        "            timeless_factor, R = np.linalg.qr(timeless_factor)\n",
        "            new_ranks.append(R.shape[0])\n",
        "            factors[i] = timeless_factor.reshape(new_ranks[-2], factors[i].shape[1], new_ranks[-1])\n",
        "        else:\n",
        "            factors[i] = R @ factors[i]\n",
        "\n",
        "    return factors, new_ranks"
      ],
      "metadata": {
        "id": "Hwb8VHz9at2-"
      },
      "execution_count": 4,
      "outputs": []
    },
    {
      "cell_type": "markdown",
      "source": [
        "# TT-compression"
      ],
      "metadata": {
        "id": "4I6_gOIsof5z"
      }
    },
    {
      "cell_type": "code",
      "source": [
        "def TT_compression(factors, ranks, eps=10**(-8), new_ranks=None, is_ort=False):\n",
        "    if not is_ort:\n",
        "        factors, ranks = TT_orthogonalization(factors, ranks)\n",
        "\n",
        "    norm_tensor = np.linalg.norm(factors[-1].reshape(-1,))\n",
        "\n",
        "    eps = (eps * norm_tensor)**2\n",
        "    d = len(factors)\n",
        "\n",
        "    for i in range(d - 1, -1, -1):\n",
        "        if i == d - 1:\n",
        "            U, s, Vh = np.linalg.svd(factors[i], full_matrices=False)\n",
        "\n",
        "            if new_ranks:\n",
        "                rank = new_ranks[i - 1]\n",
        "            else:\n",
        "                rank, m_eps = use_rank(s, eps / i)\n",
        "                eps = eps - m_eps\n",
        "\n",
        "            factors[i] = Vh[:rank, :]\n",
        "            Z = U[:, :rank] * s[:rank]\n",
        "\n",
        "            ranks[i - 1] = rank\n",
        "\n",
        "        elif i != 0:\n",
        "            timeless_factor = factors[i].reshape(ranks[i - 1] * factors[i].shape[1], -1) @ Z\n",
        "            U, s, Vh = np.linalg.svd(timeless_factor.reshape(ranks[i - 1], -1), full_matrices=False)\n",
        "\n",
        "            if new_ranks:\n",
        "                rank = new_ranks[i - 1]\n",
        "            else:\n",
        "                rank, m_eps = use_rank(s, eps / i)\n",
        "                eps = eps - m_eps\n",
        "\n",
        "            factors[i] = Vh[:rank, :].reshape(rank, factors[i].shape[1], ranks[i])\n",
        "\n",
        "            Z = U[:, :rank] * s[:rank]\n",
        "            ranks[i - 1] = rank\n",
        "        else:\n",
        "            factors[i] = factors[i] @ Z\n",
        "\n",
        "\n",
        "    return factors, ranks"
      ],
      "metadata": {
        "id": "ByA9CwyborEF"
      },
      "execution_count": 5,
      "outputs": []
    },
    {
      "cell_type": "markdown",
      "source": [
        "# Tensor from TT"
      ],
      "metadata": {
        "id": "3EJNDQQuS_ux"
      }
    },
    {
      "cell_type": "code",
      "source": [
        "def TT_to_tensor(factors, ranks):\n",
        "    d = len(factors)\n",
        "\n",
        "    T = factors[0]\n",
        "    dims = [factors[0].shape[0]]\n",
        "\n",
        "    for i in range(1, d):\n",
        "        if i != d - 1:\n",
        "            dims.append(factors[i].shape[1])\n",
        "            T = T @ factors[i].reshape(ranks[i - 1], -1)\n",
        "            T = T.reshape(-1, ranks[i])\n",
        "        else:\n",
        "            dims.append(factors[i].shape[1])\n",
        "            T = T @ factors[i].reshape(ranks[i - 1], -1)\n",
        "            T = T.reshape(dims)\n",
        "\n",
        "    return T, dims"
      ],
      "metadata": {
        "id": "pRDO53vqS49k"
      },
      "execution_count": 6,
      "outputs": []
    },
    {
      "cell_type": "markdown",
      "source": [
        "# Create Tensor"
      ],
      "metadata": {
        "id": "ZHQsjFkgS8HZ"
      }
    },
    {
      "cell_type": "code",
      "execution_count": 7,
      "metadata": {
        "id": "BwxZ8QVID_Ua"
      },
      "outputs": [],
      "source": [
        "sizes = np.array((10, 20, 30, 40))\n",
        "T = np.zeros(sizes)\n",
        "for i in range(sizes[0]):\n",
        "    for j in range(sizes[1]):\n",
        "        for k in range(sizes[2]):\n",
        "            for m in range(sizes[3]):\n",
        "                T[i, j, k, m] = 1 / (i + j + k + m + 1)"
      ]
    },
    {
      "cell_type": "markdown",
      "source": [
        "# Test TT-SVD"
      ],
      "metadata": {
        "id": "4dTDJUL4fAs6"
      }
    },
    {
      "cell_type": "code",
      "source": [
        "factors, ranks = TT_SVD(T.copy(), eps=10**(-10))"
      ],
      "metadata": {
        "id": "vQia8aw2KupU"
      },
      "execution_count": 8,
      "outputs": []
    },
    {
      "cell_type": "code",
      "source": [
        "ranks"
      ],
      "metadata": {
        "colab": {
          "base_uri": "https://localhost:8080/"
        },
        "id": "1f21OecWWp3I",
        "outputId": "99de1870-e747-4905-9fa7-b3dbd9876094"
      },
      "execution_count": 9,
      "outputs": [
        {
          "output_type": "execute_result",
          "data": {
            "text/plain": [
              "[10, 12, 12]"
            ]
          },
          "metadata": {},
          "execution_count": 9
        }
      ]
    },
    {
      "cell_type": "code",
      "source": [
        "new_T, dims = TT_to_tensor(factors.copy(), ranks.copy())"
      ],
      "metadata": {
        "id": "5dkPI7bsPkkp"
      },
      "execution_count": 10,
      "outputs": []
    },
    {
      "cell_type": "code",
      "source": [
        "print(np.linalg.norm((new_T - T).reshape(-1,)) / np.linalg.norm((T).reshape(-1,)))"
      ],
      "metadata": {
        "colab": {
          "base_uri": "https://localhost:8080/"
        },
        "id": "539PgLokPeWX",
        "outputId": "6b9e1e4e-7cf0-4a97-c670-573a3dc6abc1"
      },
      "execution_count": 11,
      "outputs": [
        {
          "output_type": "stream",
          "name": "stdout",
          "text": [
            "2.720835568093407e-11\n"
          ]
        }
      ]
    },
    {
      "cell_type": "markdown",
      "source": [
        "# Test TT_orthogonalization"
      ],
      "metadata": {
        "id": "q1WZfF0-fFYO"
      }
    },
    {
      "cell_type": "code",
      "source": [
        "factors, ranks = TT_SVD(T.copy(), eps=10**(-10))"
      ],
      "metadata": {
        "id": "OVJsYd3klsQ1"
      },
      "execution_count": 12,
      "outputs": []
    },
    {
      "cell_type": "code",
      "source": [
        "ranks"
      ],
      "metadata": {
        "colab": {
          "base_uri": "https://localhost:8080/"
        },
        "id": "--Mn0OPloPF8",
        "outputId": "d5aec6a0-541b-49f4-e7fb-5c7eccd86a76"
      },
      "execution_count": 13,
      "outputs": [
        {
          "output_type": "execute_result",
          "data": {
            "text/plain": [
              "[10, 12, 12]"
            ]
          },
          "metadata": {},
          "execution_count": 13
        }
      ]
    },
    {
      "cell_type": "code",
      "source": [
        "for i in range(len(factors)):\n",
        "    factors[i] += np.ones(factors[i].shape)"
      ],
      "metadata": {
        "id": "OP39NJdFlvG9"
      },
      "execution_count": 14,
      "outputs": []
    },
    {
      "cell_type": "markdown",
      "source": [
        "Факторы не ортогональны"
      ],
      "metadata": {
        "id": "hJKXjeztnF4r"
      }
    },
    {
      "cell_type": "code",
      "source": [
        "print(np.linalg.norm((factors[0].T @ factors[0] - np.eye(factors[0].shape[1])).reshape(-1,)) / np.linalg.norm((np.eye(factors[0].shape[1])).reshape(-1,)))\n",
        "for i in range(1, len(factors) - 1):\n",
        "    a, b, c = factors[i].shape\n",
        "    new_fact = factors[i].reshape(a * b, c)\n",
        "    print(np.linalg.norm((new_fact.T @ new_fact - np.eye(c)).reshape(-1,)) / np.linalg.norm((np.eye(c)).reshape(-1,)))"
      ],
      "metadata": {
        "colab": {
          "base_uri": "https://localhost:8080/"
        },
        "id": "iu6n_kQikE_X",
        "outputId": "684847e8-1df8-4782-a96d-f4587220e56e"
      },
      "execution_count": 15,
      "outputs": [
        {
          "output_type": "stream",
          "name": "stdout",
          "text": [
            "30.26232614678093\n",
            "689.6290871268446\n",
            "1248.6179141523971\n"
          ]
        }
      ]
    },
    {
      "cell_type": "code",
      "source": [
        "new_T, dims = TT_to_tensor(factors.copy(), ranks.copy())"
      ],
      "metadata": {
        "id": "wbMV_2Yfl912"
      },
      "execution_count": 16,
      "outputs": []
    },
    {
      "cell_type": "code",
      "source": [
        "ort_factors, ort_ranks = TT_orthogonalization(factors, ranks)"
      ],
      "metadata": {
        "id": "MkKL2wObmOR5"
      },
      "execution_count": 17,
      "outputs": []
    },
    {
      "cell_type": "code",
      "source": [
        "ort_ranks"
      ],
      "metadata": {
        "colab": {
          "base_uri": "https://localhost:8080/"
        },
        "id": "KxKkgnIZoStd",
        "outputId": "46960b21-8c9a-460d-a899-35675be4ae6c"
      },
      "execution_count": 18,
      "outputs": [
        {
          "output_type": "execute_result",
          "data": {
            "text/plain": [
              "[10, 12, 12]"
            ]
          },
          "metadata": {},
          "execution_count": 18
        }
      ]
    },
    {
      "cell_type": "markdown",
      "source": [
        "Факторы ортогональны"
      ],
      "metadata": {
        "id": "TaodJayFnjLO"
      }
    },
    {
      "cell_type": "code",
      "source": [
        "print(np.linalg.norm((ort_factors[0].T @ ort_factors[0] - np.eye(ort_factors[0].shape[1])).reshape(-1,)) / np.linalg.norm((np.eye(ort_factors[0].shape[1])).reshape(-1,)))\n",
        "for i in range(1, len(ort_factors) - 1):\n",
        "    a, b, c = ort_factors[i].shape\n",
        "    new_fact = ort_factors[i].reshape(a * b, c)\n",
        "    print(np.linalg.norm((new_fact.T @ new_fact - np.eye(c)).reshape(-1,)) / np.linalg.norm((np.eye(c)).reshape(-1,)))"
      ],
      "metadata": {
        "colab": {
          "base_uri": "https://localhost:8080/"
        },
        "id": "7f07sk3mnRva",
        "outputId": "cae635b7-5fdd-4c28-ef9b-d05aa15721a0"
      },
      "execution_count": 19,
      "outputs": [
        {
          "output_type": "stream",
          "name": "stdout",
          "text": [
            "3.728395895188642e-16\n",
            "6.480096795978864e-16\n",
            "5.674915164924475e-16\n"
          ]
        }
      ]
    },
    {
      "cell_type": "code",
      "source": [
        "ort_T, dims = TT_to_tensor(ort_factors.copy(), ort_ranks.copy())"
      ],
      "metadata": {
        "id": "mA1Vu0y_mXJJ"
      },
      "execution_count": 20,
      "outputs": []
    },
    {
      "cell_type": "markdown",
      "source": [
        "Абсолютная ошибка между построенным тензором и исходным"
      ],
      "metadata": {
        "id": "xLfKuAhJnmQf"
      }
    },
    {
      "cell_type": "code",
      "source": [
        "print(np.linalg.norm((new_T - ort_T).reshape(-1,)) / np.linalg.norm((new_T).reshape(-1,)))"
      ],
      "metadata": {
        "colab": {
          "base_uri": "https://localhost:8080/"
        },
        "id": "xkdfr09FmjTL",
        "outputId": "340b3bbb-72b0-4216-c115-d083f833e7fc"
      },
      "execution_count": 21,
      "outputs": [
        {
          "output_type": "stream",
          "name": "stdout",
          "text": [
            "5.26250155948656e-16\n"
          ]
        }
      ]
    },
    {
      "cell_type": "markdown",
      "source": [
        "# Test TT-compress"
      ],
      "metadata": {
        "id": "zmtSam0lvyiq"
      }
    },
    {
      "cell_type": "markdown",
      "source": [
        "Та же точность"
      ],
      "metadata": {
        "id": "qO0PQwWQ0ct0"
      }
    },
    {
      "cell_type": "code",
      "source": [
        "factors, ranks = TT_SVD(T.copy(), eps=10**(-10))"
      ],
      "metadata": {
        "id": "mLHiB39QwNiD"
      },
      "execution_count": 22,
      "outputs": []
    },
    {
      "cell_type": "code",
      "source": [
        "ranks"
      ],
      "metadata": {
        "colab": {
          "base_uri": "https://localhost:8080/"
        },
        "id": "yMGB6kNcwQRp",
        "outputId": "761ea07a-833f-424e-d73c-5b6720d0d0f7"
      },
      "execution_count": 23,
      "outputs": [
        {
          "output_type": "execute_result",
          "data": {
            "text/plain": [
              "[10, 12, 12]"
            ]
          },
          "metadata": {},
          "execution_count": 23
        }
      ]
    },
    {
      "cell_type": "code",
      "source": [
        "new_T, dims = TT_to_tensor(factors.copy(), ranks.copy())"
      ],
      "metadata": {
        "id": "hCQC-IJW0HSM"
      },
      "execution_count": 24,
      "outputs": []
    },
    {
      "cell_type": "code",
      "source": [
        "print(np.linalg.norm((new_T - T).reshape(-1,)) / np.linalg.norm((T).reshape(-1,)))"
      ],
      "metadata": {
        "colab": {
          "base_uri": "https://localhost:8080/"
        },
        "id": "YFLggQ-c0LK3",
        "outputId": "bc383d98-ea25-4bc9-d006-7c0d198dca8e"
      },
      "execution_count": 25,
      "outputs": [
        {
          "output_type": "stream",
          "name": "stdout",
          "text": [
            "2.720835568093407e-11\n"
          ]
        }
      ]
    },
    {
      "cell_type": "code",
      "source": [
        "comp_factors, comp_ranks = TT_compression(factors.copy(), ranks.copy(), eps=10**(-10), is_ort=True)"
      ],
      "metadata": {
        "id": "Fgmj89bBmqIv"
      },
      "execution_count": 26,
      "outputs": []
    },
    {
      "cell_type": "code",
      "source": [
        "comp_ranks"
      ],
      "metadata": {
        "colab": {
          "base_uri": "https://localhost:8080/"
        },
        "id": "bwO7CmvYwRYG",
        "outputId": "1a296bf8-baf7-4902-f4fe-964889df7bd6"
      },
      "execution_count": 27,
      "outputs": [
        {
          "output_type": "execute_result",
          "data": {
            "text/plain": [
              "[9, 12, 12]"
            ]
          },
          "metadata": {},
          "execution_count": 27
        }
      ]
    },
    {
      "cell_type": "code",
      "source": [
        "comp_T, comp_dims = TT_to_tensor(comp_factors.copy(), comp_ranks.copy())"
      ],
      "metadata": {
        "id": "HfoCCN_QwaSQ"
      },
      "execution_count": 28,
      "outputs": []
    },
    {
      "cell_type": "code",
      "source": [
        "print(np.linalg.norm((comp_T - T).reshape(-1,)) / np.linalg.norm((T).reshape(-1,)))"
      ],
      "metadata": {
        "colab": {
          "base_uri": "https://localhost:8080/"
        },
        "id": "ATsmV1CdzS1g",
        "outputId": "ddcfacfe-4677-4929-d8ef-893a7e70b478"
      },
      "execution_count": 29,
      "outputs": [
        {
          "output_type": "stream",
          "name": "stdout",
          "text": [
            "6.226936244242895e-11\n"
          ]
        }
      ]
    },
    {
      "cell_type": "markdown",
      "source": [
        "Другая точность"
      ],
      "metadata": {
        "id": "nQO9UKtq0gmr"
      }
    },
    {
      "cell_type": "code",
      "source": [
        "factors, ranks = TT_SVD(T.copy(), eps=10**(-5))\n",
        "print(ranks)\n",
        "new_T, dims = TT_to_tensor(factors.copy(), ranks.copy())\n",
        "print(np.linalg.norm((new_T - T).reshape(-1,)) / np.linalg.norm((T).reshape(-1,)))"
      ],
      "metadata": {
        "colab": {
          "base_uri": "https://localhost:8080/"
        },
        "id": "0kQaClAszXFp",
        "outputId": "bdbb5382-c994-4399-ec54-dd45bcef36e7"
      },
      "execution_count": 30,
      "outputs": [
        {
          "output_type": "stream",
          "name": "stdout",
          "text": [
            "[6, 7, 7]\n",
            "4.16806238192122e-06\n"
          ]
        }
      ]
    },
    {
      "cell_type": "code",
      "source": [
        "comp_factors, comp_ranks = TT_compression(factors.copy(), ranks.copy(), eps=10**(-10), is_ort=True)\n",
        "comp_ranks\n",
        "comp_T, comp_dims = TT_to_tensor(comp_factors.copy(), comp_ranks.copy())\n",
        "print(np.linalg.norm((comp_T - T).reshape(-1,)) / np.linalg.norm((T).reshape(-1,)))"
      ],
      "metadata": {
        "colab": {
          "base_uri": "https://localhost:8080/"
        },
        "id": "Yu9qPGC-0rs1",
        "outputId": "c599adf5-a148-48cf-d402-aca584597a73"
      },
      "execution_count": 31,
      "outputs": [
        {
          "output_type": "stream",
          "name": "stdout",
          "text": [
            "4.168062381922461e-06\n"
          ]
        }
      ]
    },
    {
      "cell_type": "markdown",
      "source": [
        "С ортогонализацией"
      ],
      "metadata": {
        "id": "gFBsgKjl0zRn"
      }
    },
    {
      "cell_type": "code",
      "source": [
        "factors, ranks = TT_SVD(T.copy(), eps=10**(-10))\n",
        "print(ranks)\n",
        "for i in range(len(factors)):\n",
        "    factors[i] += np.ones(factors[i].shape)\n",
        "new_T, dims = TT_to_tensor(factors.copy(), ranks.copy())"
      ],
      "metadata": {
        "colab": {
          "base_uri": "https://localhost:8080/"
        },
        "id": "nOPJiT4Q0wO0",
        "outputId": "1603048c-9bf4-431b-af57-6f3b3b7c8ab4"
      },
      "execution_count": 32,
      "outputs": [
        {
          "output_type": "stream",
          "name": "stdout",
          "text": [
            "[10, 12, 12]\n"
          ]
        }
      ]
    },
    {
      "cell_type": "code",
      "source": [
        "print(np.linalg.norm((factors[0].T @ factors[0] - np.eye(factors[0].shape[0])).reshape(-1,)) / np.linalg.norm((np.eye(factors[0].shape[0])).reshape(-1,)))\n",
        "for i in range(1, len(factors) - 1):\n",
        "    a, b, c = factors[i].shape\n",
        "    new_fact = factors[i].reshape(a * b, c)\n",
        "    print(np.linalg.norm((new_fact.T @ new_fact - np.eye(c)).reshape(-1,)) / np.linalg.norm((np.eye(c)).reshape(-1,)))"
      ],
      "metadata": {
        "colab": {
          "base_uri": "https://localhost:8080/"
        },
        "id": "r9cqDhYT1M1X",
        "outputId": "4ea89db0-a7d3-4f2e-d23d-f06941f5eb38"
      },
      "execution_count": 33,
      "outputs": [
        {
          "output_type": "stream",
          "name": "stdout",
          "text": [
            "30.26232614678093\n",
            "689.6290871268446\n",
            "1248.6179141523971\n"
          ]
        }
      ]
    },
    {
      "cell_type": "code",
      "source": [
        "comp_factors, comp_ranks = TT_compression(factors, ranks, eps=10**(-5), is_ort=False)\n",
        "print(comp_ranks)\n",
        "comp_T, comp_dims = TT_to_tensor(comp_factors.copy(), comp_ranks.copy())\n",
        "print(np.linalg.norm((comp_T - new_T).reshape(-1,)) / np.linalg.norm((new_T).reshape(-1,)))"
      ],
      "metadata": {
        "colab": {
          "base_uri": "https://localhost:8080/"
        },
        "id": "1J11dIc51VdO",
        "outputId": "857c90c1-7870-4227-bc48-fe2ee9d60c34"
      },
      "execution_count": 34,
      "outputs": [
        {
          "output_type": "stream",
          "name": "stdout",
          "text": [
            "[9, 7, 4]\n",
            "6.077925068510356e-06\n"
          ]
        }
      ]
    },
    {
      "cell_type": "code",
      "source": [
        "for i in range(1, len(comp_factors) - 1):\n",
        "    a, b, c = comp_factors[i].shape\n",
        "    new_fact = comp_factors[i].reshape(a, b * c)\n",
        "    print(np.linalg.norm((new_fact @ new_fact.T - np.eye(a)).reshape(-1,)) / np.linalg.norm((np.eye(a)).reshape(-1,)))\n",
        "\n",
        "\n",
        "print(np.linalg.norm((comp_factors[-1] @ comp_factors[-1].T - np.eye(comp_factors[-1].shape[0])).reshape(-1,)) / np.linalg.norm((np.eye(comp_factors[-1].shape[1])).reshape(-1,)))"
      ],
      "metadata": {
        "colab": {
          "base_uri": "https://localhost:8080/"
        },
        "id": "bS2GKgGO11uP",
        "outputId": "aa49737c-0397-43a4-cb73-0cc00b469910"
      },
      "execution_count": 35,
      "outputs": [
        {
          "output_type": "stream",
          "name": "stdout",
          "text": [
            "1.0721250953730498e-15\n",
            "8.342077254213625e-16\n",
            "2.2051753995872503e-16\n"
          ]
        }
      ]
    },
    {
      "cell_type": "code",
      "source": [],
      "metadata": {
        "id": "DZq1F5bc3JPo"
      },
      "execution_count": null,
      "outputs": []
    }
  ]
}